{
 "cells": [
  {
   "cell_type": "code",
   "execution_count": 1,
   "metadata": {},
   "outputs": [],
   "source": [
    "import nltk\n",
    "import matplotlib.pyplot as plt\n",
    "import random\n",
    "import pandas as pd\n",
    "import numpy as np"
   ]
  },
  {
   "cell_type": "code",
   "execution_count": 2,
   "metadata": {},
   "outputs": [
    {
     "data": {
      "text/plain": [
       "label    0\n",
       "tweet    0\n",
       "dtype: int64"
      ]
     },
     "execution_count": 2,
     "metadata": {},
     "output_type": "execute_result"
    }
   ],
   "source": [
    "df_tweets = pd.read_csv(\"gs://datasetsanalysis/Twitter_Emotion_Dataset.csv\")\n",
    "df_tweets.isna().sum()"
   ]
  },
  {
   "cell_type": "code",
   "execution_count": 3,
   "metadata": {},
   "outputs": [
    {
     "data": {
      "text/html": [
       "<div>\n",
       "<style scoped>\n",
       "    .dataframe tbody tr th:only-of-type {\n",
       "        vertical-align: middle;\n",
       "    }\n",
       "\n",
       "    .dataframe tbody tr th {\n",
       "        vertical-align: top;\n",
       "    }\n",
       "\n",
       "    .dataframe thead th {\n",
       "        text-align: right;\n",
       "    }\n",
       "</style>\n",
       "<table border=\"1\" class=\"dataframe\">\n",
       "  <thead>\n",
       "    <tr style=\"text-align: right;\">\n",
       "      <th></th>\n",
       "      <th>label</th>\n",
       "      <th>tweet</th>\n",
       "    </tr>\n",
       "  </thead>\n",
       "  <tbody>\n",
       "    <tr>\n",
       "      <th>0</th>\n",
       "      <td>anger</td>\n",
       "      <td>Soal jln Jatibaru,polisi tdk bs GERTAK gubernu...</td>\n",
       "    </tr>\n",
       "    <tr>\n",
       "      <th>1</th>\n",
       "      <td>anger</td>\n",
       "      <td>Sesama cewe lho (kayaknya), harusnya bisa lebi...</td>\n",
       "    </tr>\n",
       "    <tr>\n",
       "      <th>2</th>\n",
       "      <td>happy</td>\n",
       "      <td>Kepingin gudeg mbarek Bu hj. Amad Foto dari go...</td>\n",
       "    </tr>\n",
       "    <tr>\n",
       "      <th>3</th>\n",
       "      <td>anger</td>\n",
       "      <td>Jln Jatibaru,bagian dari wilayah Tn Abang.Peng...</td>\n",
       "    </tr>\n",
       "    <tr>\n",
       "      <th>4</th>\n",
       "      <td>happy</td>\n",
       "      <td>Sharing pengalaman aja, kemarin jam 18.00 bata...</td>\n",
       "    </tr>\n",
       "  </tbody>\n",
       "</table>\n",
       "</div>"
      ],
      "text/plain": [
       "   label                                              tweet\n",
       "0  anger  Soal jln Jatibaru,polisi tdk bs GERTAK gubernu...\n",
       "1  anger  Sesama cewe lho (kayaknya), harusnya bisa lebi...\n",
       "2  happy  Kepingin gudeg mbarek Bu hj. Amad Foto dari go...\n",
       "3  anger  Jln Jatibaru,bagian dari wilayah Tn Abang.Peng...\n",
       "4  happy  Sharing pengalaman aja, kemarin jam 18.00 bata..."
      ]
     },
     "execution_count": 3,
     "metadata": {},
     "output_type": "execute_result"
    }
   ],
   "source": [
    "# tweets_data = df_tweets.drop(columns={'Unnamed: 0', 'index', 'id', 'conversation_id', 'created_at', 'timezone', 'user_id', 'name', 'place', 'mentions', \\\n",
    "#                                    'urls', 'photos', 'hashtags', 'cashtags', 'link', 'retweet', 'quote_url', 'video', 'near', 'geo', \\\n",
    "#                                    'source', 'user_rt_id', 'user_rt', 'retweet_id', 'reply_to', 'retweet_date', 'translate', \\\n",
    "#                                    'trans_src', 'trans_dest'}, axis=1)\n",
    "# tweets_data.head()\n",
    "df_tweets.head()"
   ]
  },
  {
   "cell_type": "code",
   "execution_count": 4,
   "metadata": {},
   "outputs": [
    {
     "data": {
      "text/plain": [
       "0"
      ]
     },
     "execution_count": 4,
     "metadata": {},
     "output_type": "execute_result"
    }
   ],
   "source": [
    "df_tweets = df_tweets.drop_duplicates()\n",
    "df_tweets.duplicated().sum()"
   ]
  },
  {
   "cell_type": "code",
   "execution_count": 106,
   "metadata": {},
   "outputs": [
    {
     "name": "stderr",
     "output_type": "stream",
     "text": [
      "[nltk_data] Downloading package punkt to /home/jupyter/nltk_data...\n",
      "[nltk_data]   Package punkt is already up-to-date!\n"
     ]
    },
    {
     "data": {
      "text/plain": [
       "True"
      ]
     },
     "execution_count": 106,
     "metadata": {},
     "output_type": "execute_result"
    }
   ],
   "source": [
    "import re\n",
    "import itertools\n",
    "import string\n",
    "import gensim\n",
    "from nltk.corpus import stopwords\n",
    "from nltk.tokenize import word_tokenize\n",
    "from nltk.probability import FreqDist\n",
    "from Sastrawi.Stemmer.StemmerFactory import StemmerFactory\n",
    "nltk.download('punkt')"
   ]
  },
  {
   "cell_type": "code",
   "execution_count": 56,
   "metadata": {},
   "outputs": [],
   "source": [
    "# !pip install sastrawi"
   ]
  },
  {
   "cell_type": "code",
   "execution_count": 89,
   "metadata": {},
   "outputs": [
    {
     "name": "stdout",
     "output_type": "stream",
     "text": [
      "Tokenizing Result : \n",
      "\n",
      "0    [Soal, jln, Jatibarupolisi, tdk, bs, GERTAK, g...\n",
      "1    [Sesama, cewe, lho, kayaknya, harusnya, bisa, ...\n",
      "2    [Kepingin, gudeg, mbarek, Bu, hj, Amad, Foto, ...\n",
      "3    [Jln, Jatibarubagian, dari, wilayah, Tn, Abang...\n",
      "4    [Sharing, pengalaman, aja, kemarin, jam, batal...\n",
      "Name: tweet_tokens, dtype: object\n",
      "\n",
      "\n",
      "\n",
      "\n"
     ]
    }
   ],
   "source": [
    "def remove_tweet_special(text):\n",
    "    # remove tab, new line, ans back slice\n",
    "    text = text.replace('\\\\t',\" \").replace('\\\\n',\" \").replace('\\\\u',\" \").replace('\\\\',\"\")\n",
    "    # remove non ASCII (emoticon, chinese word, .etc)\n",
    "    text = text.encode('ascii', 'replace').decode('ascii')\n",
    "    # remove mention, link, hashtag\n",
    "    text = ' '.join(re.sub(\"([@#][A-Za-z0-9]+)|(\\w+:\\/\\/\\S+)\",\" \", text).split())\n",
    "    # remove incomplete URL\n",
    "    return text.replace(\"http://\", \" \").replace(\"https://\", \" \")\n",
    "                \n",
    "df_tweets['tweet'] = df_tweets['tweet'].apply(remove_tweet_special)\n",
    "\n",
    "#remove number\n",
    "def remove_number(text):\n",
    "    return  re.sub(r\"\\d+\", \"\", text)\n",
    "\n",
    "df_tweets['tweet'] = df_tweets['tweet'].apply(remove_number)\n",
    "\n",
    "#remove punctuation\n",
    "def remove_punctuation(text):\n",
    "    return text.translate(str.maketrans(\"\",\"\",string.punctuation))\n",
    "\n",
    "df_tweets['tweet'] = df_tweets['tweet'].apply(remove_punctuation)\n",
    "\n",
    "#remove whitespace leading & trailing\n",
    "def remove_whitespace_LT(text):\n",
    "    return text.strip()\n",
    "\n",
    "df_tweets['tweet'] = df_tweets['tweet'].apply(remove_whitespace_LT)\n",
    "\n",
    "#remove multiple whitespace into single whitespace\n",
    "def remove_whitespace_multiple(text):\n",
    "    return re.sub('\\s+',' ',text)\n",
    "\n",
    "df_tweets['tweet'] = df_tweets['tweet'].apply(remove_whitespace_multiple)\n",
    "\n",
    "# remove single char\n",
    "def remove_singl_char(text):\n",
    "    return re.sub(r\"\\b[a-zA-Z]\\b\", \"\", text)\n",
    "\n",
    "df_tweets['tweet'] = df_tweets['tweet'].apply(remove_singl_char)\n",
    "\n",
    "# NLTK word rokenize \n",
    "def word_tokenize_wrapper(text):\n",
    "    return word_tokenize(text)\n",
    "\n",
    "df_tweets['tweet_tokens'] = df_tweets['tweet'].apply(word_tokenize_wrapper)\n",
    "\n",
    "def normalizing_words(review):\n",
    "    return ''.join(''.join(s)[:1] for _, s in itertools.groupby(review))\n",
    "\n",
    "def preprocess(text):\n",
    "    text = text.strip()\n",
    "    text = text.lower()\n",
    "    text = re.sub('[^0-9a-zA-Z]+', ' ', text)\n",
    "    text = re.sub(' +', ' ', text).strip()\n",
    "    text = re.sub(r'\\d+', '', text)\n",
    "    return text\n",
    "\n",
    "print('Tokenizing Result : \\n') \n",
    "print(df_tweets['tweet_tokens'].head())\n",
    "print('\\n\\n\\n')"
   ]
  },
  {
   "cell_type": "code",
   "execution_count": 59,
   "metadata": {},
   "outputs": [
    {
     "name": "stdout",
     "output_type": "stream",
     "text": [
      "Frequency Tokens : \n",
      "\n",
      "0    [(tdk, 2), (gubernur, 2), (USERNAME, 2), (Soal...\n",
      "1    [(rasain, 2), (yang, 2), (Sesama, 1), (cewe, 1...\n",
      "2    [(Kepingin, 1), (gudeg, 1), (mbarek, 1), (Bu, ...\n",
      "3    [(wilayah, 2), (Jln, 1), (Jatibarubagian, 1), ...\n",
      "4    [(di, 2), (Sharing, 1), (pengalaman, 1), (aja,...\n",
      "Name: tweet_tokens_fdist, dtype: object\n"
     ]
    }
   ],
   "source": [
    "def freqDist_wrapper(text):\n",
    "    return FreqDist(text)\n",
    "\n",
    "df_tweets['tweet_tokens_fdist'] = df_tweets['tweet_tokens'].apply(freqDist_wrapper)\n",
    "\n",
    "print('Frequency Tokens : \\n') \n",
    "print(df_tweets['tweet_tokens_fdist'].head().apply(lambda x : x.most_common()))"
   ]
  },
  {
   "cell_type": "code",
   "execution_count": 6,
   "metadata": {},
   "outputs": [],
   "source": [
    "def preprocess_tweet(tweet):\n",
    "    tweet.lower()\n",
    "    tweet = re.sub(r\"http\\S+|www\\S+|https\\S+\", '', tweet, flags=re.MULTILINE)\n",
    "    tweet = re.sub(r'\\@\\w+|\\#','', tweet)\n",
    "    tweet = tweet.translate(str.maketrans('', '', string.punctuation))\n",
    "    factory = StemmerFactory()\n",
    "    stemmer = factory.create_stemmer()\n",
    "    output = stemmer.stem(tweet)\n",
    "    \n",
    "    return output"
   ]
  },
  {
   "cell_type": "code",
   "execution_count": 7,
   "metadata": {},
   "outputs": [],
   "source": [
    "tweets_preprocessed = df_tweets['tweet'].apply(preprocess_tweet)"
   ]
  },
  {
   "cell_type": "code",
   "execution_count": 21,
   "metadata": {},
   "outputs": [
    {
     "data": {
      "text/plain": [
       "0       soal jln jatibarupolisi tdk bs gertak gubernur...\n",
       "1       sama cewe lho kayak harus bisa lebih rasain la...\n",
       "2       kepingin gudeg mbarek bu hj amad foto dari goo...\n",
       "3       jln jatibarubagian dari wilayah tn abangpengat...\n",
       "4       sharing alam aja kemarin jam 1800 batalin tike...\n",
       "                              ...                        \n",
       "4396    tahu kamu bahwa saat itu papa mejam mata dan t...\n",
       "4397    sulit tetap calon wapresnya jokowi di pilpres ...\n",
       "4398    5 masa depan nggak jelas lha iya gimana mau je...\n",
       "4399    username dulu beneran ada mahasiswa teknik ui ...\n",
       "4400    ya allah hanya engkau yang tahu rasa sakit di ...\n",
       "Name: tweet, Length: 4390, dtype: object"
      ]
     },
     "execution_count": 21,
     "metadata": {},
     "output_type": "execute_result"
    }
   ],
   "source": [
    "tweets_preprocessed"
   ]
  },
  {
   "cell_type": "code",
   "execution_count": 60,
   "metadata": {},
   "outputs": [],
   "source": [
    "tweets_preprocessed.to_csv('tweets_preprocessed.csv')"
   ]
  },
  {
   "cell_type": "code",
   "execution_count": 43,
   "metadata": {},
   "outputs": [],
   "source": [
    "from sklearn.feature_extraction.text import TfidfTransformer\n",
    "from sklearn.feature_extraction.text import CountVectorizer\n",
    "from sklearn.model_selection import train_test_split\n",
    "from sklearn.metrics import accuracy_score\n",
    "from sklearn.naive_bayes import MultinomialNB\n",
    "from sklearn.linear_model import LogisticRegression\n",
    "from sklearn import svm"
   ]
  },
  {
   "cell_type": "code",
   "execution_count": 78,
   "metadata": {},
   "outputs": [],
   "source": [
    "data = {'Tweets': tweets_preprocessed}\n",
    "df_preprocessed = pd.DataFrame(data)"
   ]
  },
  {
   "cell_type": "code",
   "execution_count": 79,
   "metadata": {},
   "outputs": [
    {
     "data": {
      "text/html": [
       "<div>\n",
       "<style scoped>\n",
       "    .dataframe tbody tr th:only-of-type {\n",
       "        vertical-align: middle;\n",
       "    }\n",
       "\n",
       "    .dataframe tbody tr th {\n",
       "        vertical-align: top;\n",
       "    }\n",
       "\n",
       "    .dataframe thead th {\n",
       "        text-align: right;\n",
       "    }\n",
       "</style>\n",
       "<table border=\"1\" class=\"dataframe\">\n",
       "  <thead>\n",
       "    <tr style=\"text-align: right;\">\n",
       "      <th></th>\n",
       "      <th>Tweets</th>\n",
       "    </tr>\n",
       "  </thead>\n",
       "  <tbody>\n",
       "    <tr>\n",
       "      <th>0</th>\n",
       "      <td>soal jln jatibarupolisi tdk bs gertak gubernur...</td>\n",
       "    </tr>\n",
       "    <tr>\n",
       "      <th>1</th>\n",
       "      <td>sama cewe lho kayak harus bisa lebih rasain la...</td>\n",
       "    </tr>\n",
       "    <tr>\n",
       "      <th>2</th>\n",
       "      <td>kepingin gudeg mbarek bu hj amad foto dari goo...</td>\n",
       "    </tr>\n",
       "    <tr>\n",
       "      <th>3</th>\n",
       "      <td>jln jatibarubagian dari wilayah tn abangpengat...</td>\n",
       "    </tr>\n",
       "    <tr>\n",
       "      <th>4</th>\n",
       "      <td>sharing alam aja kemarin jam 1800 batalin tike...</td>\n",
       "    </tr>\n",
       "  </tbody>\n",
       "</table>\n",
       "</div>"
      ],
      "text/plain": [
       "                                              Tweets\n",
       "0  soal jln jatibarupolisi tdk bs gertak gubernur...\n",
       "1  sama cewe lho kayak harus bisa lebih rasain la...\n",
       "2  kepingin gudeg mbarek bu hj amad foto dari goo...\n",
       "3  jln jatibarubagian dari wilayah tn abangpengat...\n",
       "4  sharing alam aja kemarin jam 1800 batalin tike..."
      ]
     },
     "execution_count": 79,
     "metadata": {},
     "output_type": "execute_result"
    }
   ],
   "source": [
    "df_preprocessed.head()"
   ]
  },
  {
   "cell_type": "code",
   "execution_count": 90,
   "metadata": {},
   "outputs": [],
   "source": [
    "df_preprocessed['Tweets'] = df_preprocessed['Tweets'].apply(lambda x: preprocess(str(x)))"
   ]
  },
  {
   "cell_type": "code",
   "execution_count": 91,
   "metadata": {},
   "outputs": [
    {
     "data": {
      "text/html": [
       "<div>\n",
       "<style scoped>\n",
       "    .dataframe tbody tr th:only-of-type {\n",
       "        vertical-align: middle;\n",
       "    }\n",
       "\n",
       "    .dataframe tbody tr th {\n",
       "        vertical-align: top;\n",
       "    }\n",
       "\n",
       "    .dataframe thead th {\n",
       "        text-align: right;\n",
       "    }\n",
       "</style>\n",
       "<table border=\"1\" class=\"dataframe\">\n",
       "  <thead>\n",
       "    <tr style=\"text-align: right;\">\n",
       "      <th></th>\n",
       "      <th>Tweets</th>\n",
       "    </tr>\n",
       "  </thead>\n",
       "  <tbody>\n",
       "    <tr>\n",
       "      <th>0</th>\n",
       "      <td>soal jln jatibarupolisi tdk bs gertak gubernur...</td>\n",
       "    </tr>\n",
       "    <tr>\n",
       "      <th>1</th>\n",
       "      <td>sama cewe lho kayak harus bisa lebih rasain la...</td>\n",
       "    </tr>\n",
       "    <tr>\n",
       "      <th>2</th>\n",
       "      <td>kepingin gudeg mbarek bu hj amad foto dari goo...</td>\n",
       "    </tr>\n",
       "    <tr>\n",
       "      <th>3</th>\n",
       "      <td>jln jatibarubagian dari wilayah tn abangpengat...</td>\n",
       "    </tr>\n",
       "    <tr>\n",
       "      <th>4</th>\n",
       "      <td>sharing alam aja kemarin jam  batalin tiket di...</td>\n",
       "    </tr>\n",
       "  </tbody>\n",
       "</table>\n",
       "</div>"
      ],
      "text/plain": [
       "                                              Tweets\n",
       "0  soal jln jatibarupolisi tdk bs gertak gubernur...\n",
       "1  sama cewe lho kayak harus bisa lebih rasain la...\n",
       "2  kepingin gudeg mbarek bu hj amad foto dari goo...\n",
       "3  jln jatibarubagian dari wilayah tn abangpengat...\n",
       "4  sharing alam aja kemarin jam  batalin tiket di..."
      ]
     },
     "execution_count": 91,
     "metadata": {},
     "output_type": "execute_result"
    }
   ],
   "source": [
    "df_preprocessed.head()"
   ]
  },
  {
   "cell_type": "code",
   "execution_count": 103,
   "metadata": {},
   "outputs": [
    {
     "name": "stdout",
     "output_type": "stream",
     "text": [
      "Warning: Your Kaggle API key is readable by other users on this system! To fix this, you can run 'chmod 600 /home/jupyter/.kaggle/kaggle.json'\n",
      "Downloading word2vec-100-indonesian.zip to /home/jupyter\n",
      " 97%|██████████████████████████████████████▋ | 295M/305M [00:03<00:00, 94.9MB/s]\n",
      "100%|████████████████████████████████████████| 305M/305M [00:03<00:00, 82.1MB/s]\n"
     ]
    }
   ],
   "source": [
    "!kaggle datasets download -d ilhamfp31/word2vec-100-indonesian"
   ]
  },
  {
   "cell_type": "code",
   "execution_count": 104,
   "metadata": {},
   "outputs": [
    {
     "name": "stdout",
     "output_type": "stream",
     "text": [
      "Archive:  word2vec-100-indonesian.zip\n",
      "  inflating: idwiki_word2vec_100.model  \n",
      "  inflating: idwiki_word2vec_100.model.trainables.syn1neg.npy  \n",
      "  inflating: idwiki_word2vec_100.model.wv.vectors.npy  \n"
     ]
    }
   ],
   "source": [
    "!unzip word2vec-100-indonesian.zip"
   ]
  },
  {
   "cell_type": "code",
   "execution_count": 115,
   "metadata": {},
   "outputs": [
    {
     "name": "stderr",
     "output_type": "stream",
     "text": [
      "/opt/conda/lib/python3.7/site-packages/ipykernel_launcher.py:3: DeprecationWarning: Call to deprecated `most_similar` (Method will be removed in 4.0.0, use self.wv.most_similar() instead).\n",
      "  This is separate from the ipykernel package so we can avoid doing imports until\n"
     ]
    },
    {
     "name": "stdout",
     "output_type": "stream",
     "text": [
      "[('cewek', 0.8540853261947632), ('cowo', 0.8269037008285522), ('cowok', 0.8111810684204102), ('temen', 0.779466986656189), ('bule', 0.7218682765960693), ('abis', 0.7044062614440918), ('mupeng', 0.6950250267982483), ('tuh', 0.6821547746658325), ('ceweknya', 0.6821222305297852), ('banget', 0.6735192537307739)]\n"
     ]
    }
   ],
   "source": [
    "path = 'word2vec/idwiki_word2vec_100.model'\n",
    "id_w2v = gensim.models.word2vec.Word2Vec.load(path)\n",
    "print(id_w2v.most_similar('cewe'))"
   ]
  },
  {
   "cell_type": "code",
   "execution_count": 159,
   "metadata": {},
   "outputs": [
    {
     "data": {
      "text/plain": [
       "15644"
      ]
     },
     "execution_count": 159,
     "metadata": {},
     "output_type": "execute_result"
    }
   ],
   "source": [
    "unique_string = set()\n",
    "for x in tweets_preprocessed:\n",
    "    for y in x.split():\n",
    "        unique_string.add(y)\n",
    "        \n",
    "len(unique_string)"
   ]
  },
  {
   "cell_type": "code",
   "execution_count": null,
   "metadata": {},
   "outputs": [],
   "source": []
  },
  {
   "cell_type": "code",
   "execution_count": 171,
   "metadata": {},
   "outputs": [],
   "source": [
    "df_tweets['label_id'] = df_tweets['label'].factorize()[0]\n",
    "from io import StringIO\n",
    "kategori_id_data = df_tweets[['label', 'label_id']].drop_duplicates().sort_values('label_id')\n",
    "kategori_to_id = dict(kategori_id_data.values)\n",
    "id_to_kategori = dict(kategori_id_data[['label_id', 'label']].values)"
   ]
  },
  {
   "cell_type": "code",
   "execution_count": 172,
   "metadata": {},
   "outputs": [
    {
     "data": {
      "text/plain": [
       "{0: 'anger', 1: 'happy', 2: 'sadness', 3: 'love', 4: 'fear'}"
      ]
     },
     "execution_count": 172,
     "metadata": {},
     "output_type": "execute_result"
    }
   ],
   "source": [
    "id_to_kategori"
   ]
  },
  {
   "cell_type": "code",
   "execution_count": 173,
   "metadata": {},
   "outputs": [],
   "source": [
    "y_list = list(df_tweets['label_id'])\n",
    "y_new = np.array(y_list)"
   ]
  },
  {
   "cell_type": "code",
   "execution_count": 262,
   "metadata": {},
   "outputs": [],
   "source": [
    "X_train, X_test, y_train, y_test = train_test_split(df_preprocessed['Tweets'], y_new, test_size=0.1, random_state=0)"
   ]
  },
  {
   "cell_type": "code",
   "execution_count": 263,
   "metadata": {},
   "outputs": [
    {
     "data": {
      "text/plain": [
       "3966    acuh aja orang yg komentar seperti itu team t ...\n",
       "88      orang yg pernah kalah dalam tarung politik sul...\n",
       "3160    btw panjang jl jakarta bahaya banget ya banyak...\n",
       "291     kl ga bukti ga perlu kabur tuh bangsat cabul l...\n",
       "4366    kadang aku asa sesuatu takut takut akan tidak ...\n",
       "                              ...                        \n",
       "1033    tidak semua tempat kita boleh laksana sholat s...\n",
       "3270    username username takut ulat juga nyata ku tyd...\n",
       "1657    baca thread fangirl mahasiswa anti kupu tuh ra...\n",
       "2612    username tapi suka ku inya tu dingin orgnya ta...\n",
       "2737    gatau sejak kapan tiap dengerin kucing ngeong ...\n",
       "Name: Tweets, Length: 3951, dtype: object"
      ]
     },
     "execution_count": 263,
     "metadata": {},
     "output_type": "execute_result"
    }
   ],
   "source": [
    "X_train"
   ]
  },
  {
   "cell_type": "code",
   "execution_count": 264,
   "metadata": {},
   "outputs": [],
   "source": [
    "count_vect = CountVectorizer()\n",
    "X_train_counts = count_vect.fit_transform(X_train)\n",
    "tfidf_transformer = TfidfTransformer()\n",
    "X_train_tfidf = tfidf_transformer.fit_transform(X_train_counts)"
   ]
  },
  {
   "cell_type": "code",
   "execution_count": 265,
   "metadata": {},
   "outputs": [
    {
     "data": {
      "text/plain": [
       "<3951x13999 sparse matrix of type '<class 'numpy.int64'>'\n",
       "\twith 96368 stored elements in Compressed Sparse Row format>"
      ]
     },
     "execution_count": 265,
     "metadata": {},
     "output_type": "execute_result"
    }
   ],
   "source": [
    "X_train_counts"
   ]
  },
  {
   "cell_type": "code",
   "execution_count": 266,
   "metadata": {},
   "outputs": [
    {
     "data": {
      "text/plain": [
       "LogisticRegression()"
      ]
     },
     "execution_count": 266,
     "metadata": {},
     "output_type": "execute_result"
    }
   ],
   "source": [
    "LR_model = LogisticRegression(solver='lbfgs')\n",
    "LR_model.fit(X_train_tfidf, y_train)"
   ]
  },
  {
   "cell_type": "code",
   "execution_count": 267,
   "metadata": {},
   "outputs": [],
   "source": [
    "a = count_vect.transform(X_test)\n",
    "X_coba = tfidf_transformer.fit_transform(a).toarray()\n",
    "\n",
    "y_pred = LR_model.predict(X_coba)\n"
   ]
  },
  {
   "cell_type": "code",
   "execution_count": 268,
   "metadata": {},
   "outputs": [
    {
     "name": "stdout",
     "output_type": "stream",
     "text": [
      "[[77  9 11  0  1]\n",
      " [ 9 73 15  3  2]\n",
      " [22 18 63  5  3]\n",
      " [ 4  5  6 53  0]\n",
      " [ 6  5 11  2 36]]\n",
      "              precision    recall  f1-score   support\n",
      "\n",
      "           0       0.65      0.79      0.71        98\n",
      "           1       0.66      0.72      0.69       102\n",
      "           2       0.59      0.57      0.58       111\n",
      "           3       0.84      0.78      0.81        68\n",
      "           4       0.86      0.60      0.71        60\n",
      "\n",
      "    accuracy                           0.69       439\n",
      "   macro avg       0.72      0.69      0.70       439\n",
      "weighted avg       0.70      0.69      0.69       439\n",
      "\n",
      "68.79271070615034\n"
     ]
    }
   ],
   "source": [
    "from sklearn.metrics import classification_report, confusion_matrix, accuracy_score\n",
    "print(confusion_matrix(y_test,y_pred))\n",
    "print(classification_report(y_test,y_pred))\n",
    "print(accuracy_score(y_test, y_pred) * 100)"
   ]
  },
  {
   "cell_type": "code",
   "execution_count": 269,
   "metadata": {},
   "outputs": [],
   "source": [
    "clf = MultinomialNB().fit(X_train_tfidf, y_train)"
   ]
  },
  {
   "cell_type": "code",
   "execution_count": 270,
   "metadata": {},
   "outputs": [],
   "source": [
    "b = count_vect.transform(X_test)\n",
    "X_coba2 = tfidf_transformer.fit_transform(b).toarray()\n",
    "\n",
    "y_pred2 = clf.predict(X_coba2)"
   ]
  },
  {
   "cell_type": "code",
   "execution_count": 271,
   "metadata": {},
   "outputs": [
    {
     "name": "stdout",
     "output_type": "stream",
     "text": [
      "[[90  1  7  0  0]\n",
      " [23 58 20  1  0]\n",
      " [31  8 71  1  0]\n",
      " [ 6  8 35 19  0]\n",
      " [21  4 23  1 11]]\n",
      "              precision    recall  f1-score   support\n",
      "\n",
      "           0       0.53      0.92      0.67        98\n",
      "           1       0.73      0.57      0.64       102\n",
      "           2       0.46      0.64      0.53       111\n",
      "           3       0.86      0.28      0.42        68\n",
      "           4       1.00      0.18      0.31        60\n",
      "\n",
      "    accuracy                           0.57       439\n",
      "   macro avg       0.72      0.52      0.51       439\n",
      "weighted avg       0.67      0.57      0.54       439\n",
      "\n",
      "0.5671981776765376\n"
     ]
    }
   ],
   "source": [
    "print(confusion_matrix(y_test,y_pred2))\n",
    "print(classification_report(y_test,y_pred2))\n",
    "print(accuracy_score(y_test, y_pred2))"
   ]
  },
  {
   "cell_type": "code",
   "execution_count": 272,
   "metadata": {},
   "outputs": [
    {
     "data": {
      "text/plain": [
       "SVC()"
      ]
     },
     "execution_count": 272,
     "metadata": {},
     "output_type": "execute_result"
    }
   ],
   "source": [
    "SVM_model = svm.SVC()\n",
    "SVM_model.fit(X_train_tfidf, y_train) "
   ]
  },
  {
   "cell_type": "code",
   "execution_count": 273,
   "metadata": {},
   "outputs": [],
   "source": [
    "c = count_vect.transform(X_test)\n",
    "X_coba3 = tfidf_transformer.fit_transform(c).toarray()\n",
    "\n",
    "y_pred3 = SVM_model.predict(X_coba3)"
   ]
  },
  {
   "cell_type": "code",
   "execution_count": 274,
   "metadata": {},
   "outputs": [
    {
     "name": "stdout",
     "output_type": "stream",
     "text": [
      "[[78  8 11  0  1]\n",
      " [10 70 19  2  1]\n",
      " [23 15 65  5  3]\n",
      " [ 4  5  8 51  0]\n",
      " [ 8  5 13  2 32]]\n",
      "              precision    recall  f1-score   support\n",
      "\n",
      "           0       0.63      0.80      0.71        98\n",
      "           1       0.68      0.69      0.68       102\n",
      "           2       0.56      0.59      0.57       111\n",
      "           3       0.85      0.75      0.80        68\n",
      "           4       0.86      0.53      0.66        60\n",
      "\n",
      "    accuracy                           0.67       439\n",
      "   macro avg       0.72      0.67      0.68       439\n",
      "weighted avg       0.69      0.67      0.67       439\n",
      "\n",
      "0.6742596810933941\n"
     ]
    }
   ],
   "source": [
    "print(confusion_matrix(y_test,y_pred3))\n",
    "print(classification_report(y_test,y_pred3))\n",
    "print(accuracy_score(y_test, y_pred3))"
   ]
  },
  {
   "cell_type": "code",
   "execution_count": 275,
   "metadata": {},
   "outputs": [],
   "source": [
    "from sklearn.neighbors import KNeighborsClassifier\n",
    "from sklearn import metrics"
   ]
  },
  {
   "cell_type": "code",
   "execution_count": 281,
   "metadata": {},
   "outputs": [
    {
     "data": {
      "text/plain": [
       "array([0.42596811, 0.43963554, 0.46924829, 0.46469248, 0.50113895,\n",
       "       0.51025057, 0.50569476, 0.51708428, 0.53302961, 0.53986333,\n",
       "       0.54441913, 0.54669704, 0.54214123, 0.54214123, 0.54669704,\n",
       "       0.54897494, 0.53986333, 0.54669704, 0.53758542, 0.53530752,\n",
       "       0.53302961, 0.54214123, 0.53530752, 0.53302961, 0.52164009,\n",
       "       0.53302961, 0.53986333, 0.54669704, 0.55353075, 0.54897494,\n",
       "       0.56036446, 0.56492027, 0.55580866, 0.56719818, 0.55353075,\n",
       "       0.56947608, 0.54897494, 0.55353075, 0.56719818, 0.56492027,\n",
       "       0.55353075, 0.55353075, 0.55808656, 0.55353075, 0.56036446,\n",
       "       0.56947608, 0.56947608, 0.56719818, 0.56264237, 0.56719818,\n",
       "       0.55580866, 0.55580866, 0.54897494, 0.56036446, 0.56492027,\n",
       "       0.56947608, 0.56947608, 0.56264237, 0.56264237, 0.56036446,\n",
       "       0.55353075, 0.54441913, 0.55125285, 0.54897494, 0.54897494,\n",
       "       0.54897494, 0.55353075, 0.56036446, 0.56264237, 0.56264237,\n",
       "       0.56036446, 0.55808656, 0.55580866, 0.55580866, 0.55353075,\n",
       "       0.55125285, 0.55580866, 0.55353075, 0.55125285, 0.54897494,\n",
       "       0.54897494, 0.54441913, 0.55125285, 0.54897494, 0.55353075,\n",
       "       0.55125285, 0.54897494, 0.55353075, 0.56492027, 0.56036446,\n",
       "       0.56264237, 0.56719818, 0.56719818, 0.56264237, 0.55580866,\n",
       "       0.56264237, 0.56264237, 0.56036446, 0.56719818])"
      ]
     },
     "execution_count": 281,
     "metadata": {},
     "output_type": "execute_result"
    }
   ],
   "source": [
    "Ks = 100\n",
    "mean_acc = np.zeros((Ks-1))\n",
    "std_acc = np.zeros((Ks-1))\n",
    "ConfustionMx = [];\n",
    "for n in range(1,Ks):\n",
    "    neigh = KNeighborsClassifier(n_neighbors = n).fit(X_train_tfidf, y_train)\n",
    "    yhat_knn=neigh.predict(X_coba3)\n",
    "    mean_acc[n-1] = metrics.accuracy_score(y_test, yhat_knn)\n",
    "    std_acc[n-1]=np.std(yhat_knn==y_test)/np.sqrt(yhat_knn.shape[0])\n",
    "mean_acc"
   ]
  },
  {
   "cell_type": "code",
   "execution_count": 286,
   "metadata": {},
   "outputs": [
    {
     "data": {
      "image/png": "[encoded data removed]",
      "text/plain": [
       "<Figure size 432x288 with 1 Axes>"
      ]
     },
     "metadata": {
      "needs_background": "light"
     },
     "output_type": "display_data"
    }
   ],
   "source": [
    "plt.plot(range(1, Ks), mean_acc, 'r')\n",
    "plt.fill_between(range(1, Ks), mean_acc - 1 * std_acc, mean_acc + 1 * std_acc, alpha=0.10)\n",
    "plt.legend(('Akurasi ', '+/- 3xstd'))\n",
    "plt.ylabel('Akurasi ')\n",
    "plt.xlabel('Value K')\n",
    "plt.title('Akurasi K')\n",
    "plt.tight_layout()\n",
    "plt.show()"
   ]
  },
  {
   "cell_type": "code",
   "execution_count": 283,
   "metadata": {},
   "outputs": [
    {
     "name": "stdout",
     "output_type": "stream",
     "text": [
      "Akurasi tertinggi adalah 0.57 dengan nilai K= 36\n"
     ]
    }
   ],
   "source": [
    "print(\"Akurasi tertinggi adalah %.2f\"% mean_acc.max(), \"dengan nilai K=\", mean_acc.argmax()+1) "
   ]
  },
  {
   "cell_type": "code",
   "execution_count": 284,
   "metadata": {},
   "outputs": [],
   "source": [
    "kNN_model = KNeighborsClassifier(n_neighbors = mean_acc.argmax()+1).fit(X_train_tfidf, y_train)\n",
    "yhat_knn=neigh.predict(X_coba3)"
   ]
  },
  {
   "cell_type": "code",
   "execution_count": 285,
   "metadata": {},
   "outputs": [
    {
     "name": "stdout",
     "output_type": "stream",
     "text": [
      "[[74  3 16  4  1]\n",
      " [16 36 27 15  8]\n",
      " [20  9 51 22  9]\n",
      " [ 2  1  2 61  2]\n",
      " [ 9  1  9 14 27]]\n",
      "              precision    recall  f1-score   support\n",
      "\n",
      "           0       0.61      0.76      0.68        98\n",
      "           1       0.72      0.35      0.47       102\n",
      "           2       0.49      0.46      0.47       111\n",
      "           3       0.53      0.90      0.66        68\n",
      "           4       0.57      0.45      0.50        60\n",
      "\n",
      "    accuracy                           0.57       439\n",
      "   macro avg       0.58      0.58      0.56       439\n",
      "weighted avg       0.59      0.57      0.55       439\n",
      "\n",
      "0.5671981776765376\n"
     ]
    }
   ],
   "source": [
    "print(confusion_matrix(y_test,yhat_knn))\n",
    "print(classification_report(y_test,yhat_knn))\n",
    "print(accuracy_score(y_test, yhat_knn))"
   ]
  },
  {
   "cell_type": "code",
   "execution_count": 287,
   "metadata": {},
   "outputs": [],
   "source": [
    "from sklearn.tree import DecisionTreeClassifier"
   ]
  },
  {
   "cell_type": "code",
   "execution_count": 289,
   "metadata": {},
   "outputs": [],
   "source": [
    "DT = DecisionTreeClassifier(criterion=\"entropy\", max_depth = 7)\n",
    "DT.fit(X_train_tfidf, y_train)\n",
    "predDT = DT.predict(X_coba3)"
   ]
  },
  {
   "cell_type": "code",
   "execution_count": 298,
   "metadata": {},
   "outputs": [
    {
     "name": "stdout",
     "output_type": "stream",
     "text": [
      "Akurasi Decision Tree:  0.4510250569476082\n",
      "[[29  0 66  2  1]\n",
      " [20  3 72  5  2]\n",
      " [12  0 87 10  2]\n",
      " [ 3  2 13 50  0]\n",
      " [ 5  0 25  1 29]]\n",
      "              precision    recall  f1-score   support\n",
      "\n",
      "           0       0.42      0.30      0.35        98\n",
      "           1       0.60      0.03      0.06       102\n",
      "           2       0.33      0.78      0.47       111\n",
      "           3       0.74      0.74      0.74        68\n",
      "           4       0.85      0.48      0.62        60\n",
      "\n",
      "    accuracy                           0.45       439\n",
      "   macro avg       0.59      0.47      0.44       439\n",
      "weighted avg       0.55      0.45      0.41       439\n",
      "\n",
      "0.4510250569476082\n"
     ]
    }
   ],
   "source": [
    "print(\"Akurasi Decision Tree: \", metrics.accuracy_score(y_test, predDT))\n",
    "print(confusion_matrix(y_test,predDT))\n",
    "print(classification_report(y_test,predDT))\n",
    "print(accuracy_score(y_test, predDT))"
   ]
  },
  {
   "cell_type": "code",
   "execution_count": 292,
   "metadata": {},
   "outputs": [],
   "source": [
    "from sklearn.ensemble import RandomForestClassifier"
   ]
  },
  {
   "cell_type": "code",
   "execution_count": 297,
   "metadata": {},
   "outputs": [],
   "source": [
    "RF = RandomForestClassifier()\n",
    "RF.fit(X_train_tfidf,y_train)\n",
    "pred_RF=clf.predict(X_coba3)"
   ]
  },
  {
   "cell_type": "code",
   "execution_count": 299,
   "metadata": {},
   "outputs": [
    {
     "name": "stdout",
     "output_type": "stream",
     "text": [
      "[[90  1  7  0  0]\n",
      " [23 58 20  1  0]\n",
      " [31  8 71  1  0]\n",
      " [ 6  8 35 19  0]\n",
      " [21  4 23  1 11]]\n",
      "              precision    recall  f1-score   support\n",
      "\n",
      "           0       0.53      0.92      0.67        98\n",
      "           1       0.73      0.57      0.64       102\n",
      "           2       0.46      0.64      0.53       111\n",
      "           3       0.86      0.28      0.42        68\n",
      "           4       1.00      0.18      0.31        60\n",
      "\n",
      "    accuracy                           0.57       439\n",
      "   macro avg       0.72      0.52      0.51       439\n",
      "weighted avg       0.67      0.57      0.54       439\n",
      "\n",
      "0.5671981776765376\n"
     ]
    }
   ],
   "source": [
    "print(confusion_matrix(y_test,pred_RF))\n",
    "print(classification_report(y_test,pred_RF))\n",
    "print(accuracy_score(y_test, pred_RF))"
   ]
  },
  {
   "cell_type": "code",
   "execution_count": null,
   "metadata": {},
   "outputs": [],
   "source": []
  }
 ],
 "metadata": {
  "environment": {
   "name": "common-cpu.m54",
   "type": "gcloud",
   "uri": "gcr.io/deeplearning-platform-release/base-cpu:m54"
  },
  "kernelspec": {
   "display_name": "Python 3",
   "language": "python",
   "name": "python3"
  },
  "language_info": {
   "codemirror_mode": {
    "name": "ipython",
    "version": 3
   },
   "file_extension": ".py",
   "mimetype": "text/x-python",
   "name": "python",
   "nbconvert_exporter": "python",
   "pygments_lexer": "ipython3",
   "version": "3.7.8"
  }
 },
 "nbformat": 4,
 "nbformat_minor": 4
}
